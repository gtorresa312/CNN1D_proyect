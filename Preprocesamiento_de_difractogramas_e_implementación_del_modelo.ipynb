{
  "nbformat": 4,
  "nbformat_minor": 0,
  "metadata": {
    "colab": {
      "provenance": [],
      "gpuType": "T4"
    },
    "kernelspec": {
      "name": "python3",
      "display_name": "Python 3"
    },
    "language_info": {
      "name": "python"
    },
    "accelerator": "GPU"
  },
  "cells": [
    {
      "cell_type": "code",
      "source": [
        "from google.colab import drive\n",
        "drive.mount('/content/drive')"
      ],
      "metadata": {
        "colab": {
          "base_uri": "https://localhost:8080/"
        },
        "id": "_wuZfcYjzZ6r",
        "outputId": "6a1329db-bb90-4119-c509-64abec8375db"
      },
      "execution_count": null,
      "outputs": [
        {
          "output_type": "stream",
          "name": "stdout",
          "text": [
            "Drive already mounted at /content/drive; to attempt to forcibly remount, call drive.mount(\"/content/drive\", force_remount=True).\n"
          ]
        }
      ]
    },
    {
      "cell_type": "code",
      "execution_count": null,
      "metadata": {
        "id": "WCY3jyXryG6u"
      },
      "outputs": [],
      "source": [
        "import matplotlib.pyplot as plt\n",
        "from random import shuffle\n",
        "import pandas as pd\n",
        "import numpy as np\n",
        "import json\n",
        "import os"
      ]
    },
    {
      "cell_type": "code",
      "source": [
        "# Ruta del archivo JSON en Google Drive\n",
        "ruta_json = '/content/drive/MyDrive/Archivos JSON (Materials Project)/cubic.json'\n",
        "\n",
        "# Cargar el archivo JSON en un DataFrame de pandas\n",
        "df = pd.read_json(ruta_json, lines=True)"
      ],
      "metadata": {
        "id": "SWscfWiVzm5m"
      },
      "execution_count": null,
      "outputs": []
    },
    {
      "cell_type": "code",
      "source": [
        "ruta_carpeta = '/content/drive/MyDrive/Archivos JSON (Materials Project)/'\n",
        "\n",
        "# Lista para almacenar DataFrames individuales\n",
        "dataframes = []\n",
        "\n",
        "# Iterar sobre los archivos en la carpeta\n",
        "for archivo in os.listdir(ruta_carpeta):\n",
        "    if archivo.endswith('.json'):\n",
        "        ruta_archivo = os.path.join(ruta_carpeta, archivo)\n",
        "\n",
        "        # Cargar el archivo JSON en un DataFrame\n",
        "        df_temp = pd.read_json(ruta_archivo, lines=True)\n",
        "\n",
        "        # Seleccionar 950 filas\n",
        "        df_temp = df_temp.iloc[:600]\n",
        "\n",
        "        # Agregar el DataFrame a la lista\n",
        "        dataframes.append(df_temp)\n"
      ],
      "metadata": {
        "id": "O5tGwkw51RAl"
      },
      "execution_count": null,
      "outputs": []
    },
    {
      "cell_type": "code",
      "source": [
        "df_hexagonal = dataframes[0]\n",
        "df_triclinic = dataframes[1]\n",
        "df_cubic = dataframes[2]\n",
        "df_trigonal = dataframes[3]\n",
        "df_monoclinic =  dataframes[4]\n",
        "df_tetragonal = dataframes[5]\n",
        "df_orthorhombic = dataframes[6]"
      ],
      "metadata": {
        "id": "KaUviS1j2gTl"
      },
      "execution_count": null,
      "outputs": []
    },
    {
      "cell_type": "code",
      "source": [
        "def desplazar(arr, desplazamiento):\n",
        "  return np.roll(arr, desplazamiento)\n",
        "\n",
        "def desp_DataFrame(df,desp):\n",
        "  return df.apply(lambda x: desplazar(x, desp))"
      ],
      "metadata": {
        "id": "vIflR9EcsO-g"
      },
      "execution_count": null,
      "outputs": []
    },
    {
      "cell_type": "code",
      "source": [
        "\n",
        "# Definir la función lista_a_array\n",
        "def lista_a_array(lista):\n",
        "    return np.array(lista)\n",
        "\n",
        "# Lista de nombres de DataFrames y sus correspondientes sufijos\n",
        "df_list = [\n",
        "    'hexagonal',\n",
        "    'triclinic',\n",
        "    'cubic',\n",
        "    'trigonal',\n",
        "    'monoclinic',\n",
        "    'tetragonal',\n",
        "    'orthorhombic'\n",
        "]\n",
        "\n",
        "# Inicializar diccionarios para almacenar los arrays X y las series cs\n",
        "X_dict = {}\n",
        "cs_dict = {}\n",
        "\n",
        "\n",
        "# Bucle para procesar cada DataFrame\n",
        "for df_name in df_list:\n",
        "    print(f\"Procesando {df_name}...\")\n",
        "    # Obtener los DataFrames izquierdo y derecho\n",
        "    df_izq = desp_DataFrame(globals()[f\"df_{df_name}\"], -1)\n",
        "    df_der = desp_DataFrame(globals()[f\"df_{df_name}\"], 1)\n",
        "\n",
        "    # Imprimir información para diagnóstico\n",
        "    print(f\"{df_name}: DataFrame izquierdo shape={df_izq.shape}, DataFrame derecho shape={df_der.shape}\")\n",
        "\n",
        "    # Asignar la columna 'crystal_system' a los DataFrames izquierdo y derecho\n",
        "    df_izq['crystal_system'] = globals()[f\"df_{df_name}\"]['crystal_system']\n",
        "    df_der['crystal_system'] = globals()[f\"df_{df_name}\"]['crystal_system']\n",
        "\n",
        "    # Aplicar la función lista_a_array a la columna 'intensity'\n",
        "    globals()[f\"df_{df_name}\"]['intensity'] = globals()[f\"df_{df_name}\"]['intensity'].apply(lista_a_array)\n",
        "    df_izq['intensity'] = df_izq['intensity'].apply(lista_a_array)\n",
        "    df_der['intensity'] = df_der['intensity'].apply(lista_a_array)\n",
        "\n",
        "    # Concatenar los DataFrames\n",
        "    globals()[f\"df_{df_name}\"] = pd.concat([globals()[f\"df_{df_name}\"], df_izq, df_der], ignore_index=True)\n",
        "\n",
        "    # Almacenar los arrays X y las series cs en los diccionarios\n",
        "    X_dict[df_name] = np.vstack(globals()[f\"df_{df_name}\"]['intensity'])\n",
        "    cs_dict[df_name] = globals()[f\"df_{df_name}\"]['crystal_system']\n",
        "\n",
        "    # Eliminar DataFrames izquierdos y derechos\n",
        "    del df_izq, df_der\n",
        "\n",
        "    print(f\"{df_name}: Procesamiento completado. DataFrame final shape={globals()[f'df_{df_name}'].shape}\")\n",
        "\n",
        "# Eliminar DataFrames izquierdos y derechos si existen\n",
        "for df_name in df_list:\n",
        "    df_izq_name = f\"df_{df_name}_izq\"\n",
        "    df_der_name = f\"df_{df_name}_der\"\n",
        "\n",
        "    if df_izq_name in globals():\n",
        "        del globals()[df_izq_name]\n",
        "    if df_der_name in globals():\n",
        "        del globals()[df_der_name]\n",
        "\n",
        "# Eliminar DataFrames originales\n",
        "for df_name in df_list:\n",
        "    df_name_full = f\"df_{df_name}\"\n",
        "    if df_name_full in globals():\n",
        "        del globals()[df_name_full]\n",
        "\n",
        "# Ahora, los DataFrames df_hexagonal, df_triclinic, etc., contienen los resultados finales.\n",
        "# Además, los arrays X1, X2, ..., X7 y las series cs1, cs2, ..., cs7 están disponibles en los diccionarios X_dict y cs_dict.\n"
      ],
      "metadata": {
        "colab": {
          "base_uri": "https://localhost:8080/"
        },
        "id": "PCrDCYQj-A0n",
        "outputId": "4cde2972-cc83-4e89-a892-c859dbbb1da9"
      },
      "execution_count": null,
      "outputs": [
        {
          "output_type": "stream",
          "name": "stdout",
          "text": [
            "Procesando hexagonal...\n",
            "hexagonal: DataFrame izquierdo shape=(600, 2), DataFrame derecho shape=(600, 2)\n",
            "hexagonal: Procesamiento completado. DataFrame final shape=(1800, 2)\n",
            "Procesando triclinic...\n",
            "triclinic: DataFrame izquierdo shape=(600, 2), DataFrame derecho shape=(600, 2)\n",
            "triclinic: Procesamiento completado. DataFrame final shape=(1800, 2)\n",
            "Procesando cubic...\n",
            "cubic: DataFrame izquierdo shape=(600, 2), DataFrame derecho shape=(600, 2)\n",
            "cubic: Procesamiento completado. DataFrame final shape=(1800, 2)\n",
            "Procesando trigonal...\n",
            "trigonal: DataFrame izquierdo shape=(600, 2), DataFrame derecho shape=(600, 2)\n",
            "trigonal: Procesamiento completado. DataFrame final shape=(1800, 2)\n",
            "Procesando monoclinic...\n",
            "monoclinic: DataFrame izquierdo shape=(600, 2), DataFrame derecho shape=(600, 2)\n",
            "monoclinic: Procesamiento completado. DataFrame final shape=(1800, 2)\n",
            "Procesando tetragonal...\n",
            "tetragonal: DataFrame izquierdo shape=(600, 2), DataFrame derecho shape=(600, 2)\n",
            "tetragonal: Procesamiento completado. DataFrame final shape=(1800, 2)\n",
            "Procesando orthorhombic...\n",
            "orthorhombic: DataFrame izquierdo shape=(600, 2), DataFrame derecho shape=(600, 2)\n",
            "orthorhombic: Procesamiento completado. DataFrame final shape=(1800, 2)\n"
          ]
        }
      ]
    },
    {
      "cell_type": "code",
      "source": [
        "# Crear un array X concatenando los arrays X1, X2, ..., X7\n",
        "X = np.concatenate([X_dict[df_name] for df_name in df_list])\n",
        "\n",
        "# Crear una serie cs concatenando las series cs1, cs2, ..., cs7\n",
        "cs = pd.concat([cs_dict[df_name] for df_name in df_list], ignore_index=True)"
      ],
      "metadata": {
        "id": "H2ympLZk4B9K"
      },
      "execution_count": null,
      "outputs": []
    },
    {
      "cell_type": "code",
      "source": [
        "X.shape, cs.shape\n"
      ],
      "metadata": {
        "colab": {
          "base_uri": "https://localhost:8080/"
        },
        "id": "fp8ZcxGU7BEa",
        "outputId": "59e27cb5-8ea2-4c06-9661-5b579a702817"
      },
      "execution_count": null,
      "outputs": [
        {
          "output_type": "execute_result",
          "data": {
            "text/plain": [
              "((12600, 13500), (12600,))"
            ]
          },
          "metadata": {},
          "execution_count": 10
        }
      ]
    },
    {
      "cell_type": "code",
      "source": [
        "dicc_classes = {\n",
        "    'triclinic': 0,\n",
        "    'monoclinic': 1,\n",
        "    'orthorhombic': 2,\n",
        "    'tetragonal': 3,\n",
        "    'trigonal': 4,\n",
        "    'hexagonal': 5,\n",
        "    'cubic': 6\n",
        "}"
      ],
      "metadata": {
        "id": "x1x4YDwT_bhR"
      },
      "execution_count": null,
      "outputs": []
    },
    {
      "cell_type": "code",
      "source": [
        "Y = [dicc_classes[i] for i in cs]"
      ],
      "metadata": {
        "id": "MytEf53mA227"
      },
      "execution_count": null,
      "outputs": []
    },
    {
      "cell_type": "code",
      "source": [
        "samples = list(zip(X,Y))\n",
        "shuffle(samples)\n",
        "X_shuffle, Y_shuffle = zip(*samples)"
      ],
      "metadata": {
        "id": "MhkSD5liBQFc"
      },
      "execution_count": null,
      "outputs": []
    },
    {
      "cell_type": "code",
      "source": [
        "del X,Y"
      ],
      "metadata": {
        "id": "Wws_1VoC7tKU"
      },
      "execution_count": null,
      "outputs": []
    },
    {
      "cell_type": "code",
      "source": [
        "X_ = np.array(X_shuffle)\n",
        "X_raw = X_.reshape(X_.shape[0],X_.shape[1],1)\n",
        "Y_raw = np.array(Y_shuffle)"
      ],
      "metadata": {
        "id": "jNOvu0s-CAPc"
      },
      "execution_count": null,
      "outputs": []
    },
    {
      "cell_type": "code",
      "source": [
        "del X_shuffle, Y_shuffle"
      ],
      "metadata": {
        "id": "zwus39hs8KNC"
      },
      "execution_count": null,
      "outputs": []
    },
    {
      "cell_type": "code",
      "source": [
        "X_norm = X_raw/100"
      ],
      "metadata": {
        "id": "8lHNcnooD0rb"
      },
      "execution_count": null,
      "outputs": []
    },
    {
      "cell_type": "code",
      "source": [
        "X = X_norm\n",
        "Y = Y_raw"
      ],
      "metadata": {
        "id": "BzIRj3pbFhOQ"
      },
      "execution_count": null,
      "outputs": []
    },
    {
      "cell_type": "code",
      "source": [
        "X.shape"
      ],
      "metadata": {
        "colab": {
          "base_uri": "https://localhost:8080/"
        },
        "id": "0MAOuxaKKCPH",
        "outputId": "f76ff23c-7bb5-46c5-f881-dfa51423c920"
      },
      "execution_count": null,
      "outputs": [
        {
          "output_type": "execute_result",
          "data": {
            "text/plain": [
              "(12600, 13500, 1)"
            ]
          },
          "metadata": {},
          "execution_count": 19
        }
      ]
    },
    {
      "cell_type": "code",
      "source": [
        "del X_norm,Y_raw"
      ],
      "metadata": {
        "id": "GCAbm1cI77FC"
      },
      "execution_count": null,
      "outputs": []
    },
    {
      "cell_type": "markdown",
      "source": [
        "# Determinación de la estructura cristalina de un compuesto a partir de un red convolucional 1D"
      ],
      "metadata": {
        "id": "u4fx7qCcF3nu"
      }
    },
    {
      "cell_type": "code",
      "source": [
        "from keras.models import Sequential\n",
        "from keras.layers import Input, Dense, Flatten\n",
        "from keras.layers import Dropout, Activation\n",
        "from keras.layers import Convolution1D, MaxPooling1D, AveragePooling1D\n",
        "from keras.layers import ZeroPadding1D, BatchNormalization\n",
        "from keras.optimizers import SGD\n",
        "from keras.models import Model\n",
        "from keras.utils import plot_model\n",
        "from keras.utils import to_categorical\n",
        "import tensorflow as tf\n",
        "from keras import initializers\n",
        "from keras.layers import SpatialDropout1D\n",
        "from sklearn.model_selection import train_test_split\n",
        "import keras\n",
        "import time"
      ],
      "metadata": {
        "id": "WwTUN2Q5GDyh"
      },
      "execution_count": null,
      "outputs": []
    },
    {
      "cell_type": "code",
      "source": [
        "Y_categorical = to_categorical(Y)  #Pasamos a formato one hot"
      ],
      "metadata": {
        "id": "F7zYwg4WHWPn"
      },
      "execution_count": null,
      "outputs": []
    },
    {
      "cell_type": "code",
      "source": [
        "test_size = 0.1\n",
        "\n",
        "X_train, X_test, Y_train, Y_test = train_test_split(X, Y_categorical, test_size=test_size, random_state=42)"
      ],
      "metadata": {
        "id": "UyuInrE6IOWO"
      },
      "execution_count": null,
      "outputs": []
    },
    {
      "cell_type": "markdown",
      "source": [
        "# Definimos la arquitectura de la red neuronal"
      ],
      "metadata": {
        "id": "vJRYRz5AI5vb"
      }
    },
    {
      "cell_type": "code",
      "source": [
        "def architecture(batch_normalization, dropout, input_shape, activation, num_classes):\n",
        "  model = Sequential()\n",
        "\n",
        "\n",
        "  model.add(Convolution1D(60, 100, strides = 5, padding='same', input_shape = (13500,1)))\n",
        "  if batch_normalization:\n",
        "    model.add(BatchNormalization())\n",
        "  model.add(Activation(activation))\n",
        "  if dropout:\n",
        "    model.add(Dropout(0.3))\n",
        "  model.add(AveragePooling1D(pool_size = 3, strides = 2))\n",
        "\n",
        "\n",
        "  model.add(Convolution1D(60, 50, strides = 5, padding='same'))\n",
        "  if batch_normalization:\n",
        "    model.add(BatchNormalization())\n",
        "  model.add(Activation(activation))\n",
        "  if dropout:\n",
        "    model.add(Dropout(0.3))\n",
        "  model.add(AveragePooling1D(pool_size = 3, strides = None))\n",
        "\n",
        "\n",
        "  model.add(Convolution1D(60, 25, strides = 2, padding='same'))\n",
        "  if batch_normalization:\n",
        "    model.add(BatchNormalization())\n",
        "  model.add(Activation(activation))\n",
        "  if dropout:\n",
        "    model.add(Dropout(0.3))\n",
        "  model.add(AveragePooling1D(pool_size = 3, strides = None))\n",
        "\n",
        "\n",
        "  model.add(Flatten())\n",
        "\n",
        "\n",
        "  model.add(Dense(700))\n",
        "  if batch_normalization:\n",
        "    model.add(BatchNormalization())\n",
        "  model.add(Activation('relu'))\n",
        "  if dropout:\n",
        "    model.add(Dropout(0.3))\n",
        "\n",
        "\n",
        "  model.add(Dense(70))\n",
        "  if batch_normalization:\n",
        "    model.add(BatchNormalization())\n",
        "  model.add(Activation('relu'))\n",
        "  if dropout:\n",
        "    model.add(Dropout(0.3))\n",
        "\n",
        "  model.add(Dense(num_classes))\n",
        "  model.add(Activation('softmax'))\n",
        "\n",
        "  return model"
      ],
      "metadata": {
        "id": "wyIX66B7IWVN"
      },
      "execution_count": null,
      "outputs": []
    },
    {
      "cell_type": "code",
      "source": [
        "batch_normalization = False\n",
        "dropout = True\n",
        "input_shape = (13500,1)\n",
        "num_classes = 7\n",
        "activation = 'relu'\n",
        "\n",
        "model = architecture(batch_normalization, dropout, input_shape, activation, num_classes)"
      ],
      "metadata": {
        "id": "sLxV_Aa-NFtf"
      },
      "execution_count": null,
      "outputs": []
    },
    {
      "cell_type": "code",
      "source": [
        "model.summary()"
      ],
      "metadata": {
        "colab": {
          "base_uri": "https://localhost:8080/"
        },
        "id": "NvKjPDreNjW_",
        "outputId": "a14e91ee-9ca5-4b06-830a-c673a9090c1f"
      },
      "execution_count": null,
      "outputs": [
        {
          "output_type": "stream",
          "name": "stdout",
          "text": [
            "Model: \"sequential\"\n",
            "_________________________________________________________________\n",
            " Layer (type)                Output Shape              Param #   \n",
            "=================================================================\n",
            " conv1d (Conv1D)             (None, 2700, 60)          6060      \n",
            "                                                                 \n",
            " activation (Activation)     (None, 2700, 60)          0         \n",
            "                                                                 \n",
            " dropout (Dropout)           (None, 2700, 60)          0         \n",
            "                                                                 \n",
            " average_pooling1d (Average  (None, 1349, 60)          0         \n",
            " Pooling1D)                                                      \n",
            "                                                                 \n",
            " conv1d_1 (Conv1D)           (None, 270, 60)           180060    \n",
            "                                                                 \n",
            " activation_1 (Activation)   (None, 270, 60)           0         \n",
            "                                                                 \n",
            " dropout_1 (Dropout)         (None, 270, 60)           0         \n",
            "                                                                 \n",
            " average_pooling1d_1 (Avera  (None, 90, 60)            0         \n",
            " gePooling1D)                                                    \n",
            "                                                                 \n",
            " conv1d_2 (Conv1D)           (None, 45, 60)            90060     \n",
            "                                                                 \n",
            " activation_2 (Activation)   (None, 45, 60)            0         \n",
            "                                                                 \n",
            " dropout_2 (Dropout)         (None, 45, 60)            0         \n",
            "                                                                 \n",
            " average_pooling1d_2 (Avera  (None, 15, 60)            0         \n",
            " gePooling1D)                                                    \n",
            "                                                                 \n",
            " flatten (Flatten)           (None, 900)               0         \n",
            "                                                                 \n",
            " dense (Dense)               (None, 700)               630700    \n",
            "                                                                 \n",
            " activation_3 (Activation)   (None, 700)               0         \n",
            "                                                                 \n",
            " dropout_3 (Dropout)         (None, 700)               0         \n",
            "                                                                 \n",
            " dense_1 (Dense)             (None, 70)                49070     \n",
            "                                                                 \n",
            " activation_4 (Activation)   (None, 70)                0         \n",
            "                                                                 \n",
            " dropout_4 (Dropout)         (None, 70)                0         \n",
            "                                                                 \n",
            " dense_2 (Dense)             (None, 7)                 497       \n",
            "                                                                 \n",
            " activation_5 (Activation)   (None, 7)                 0         \n",
            "                                                                 \n",
            "=================================================================\n",
            "Total params: 956447 (3.65 MB)\n",
            "Trainable params: 956447 (3.65 MB)\n",
            "Non-trainable params: 0 (0.00 Byte)\n",
            "_________________________________________________________________\n"
          ]
        }
      ]
    },
    {
      "cell_type": "code",
      "source": [
        "del Y"
      ],
      "metadata": {
        "id": "YV_SMtLZ_9Gw"
      },
      "execution_count": null,
      "outputs": []
    },
    {
      "cell_type": "markdown",
      "source": [
        "##Metodo de Optimización"
      ],
      "metadata": {
        "id": "vQiM1H38Oc9t"
      }
    },
    {
      "cell_type": "code",
      "source": [
        "lr = 0.001\n",
        "\n",
        "optimizer = keras.optimizers.Adam(learning_rate=lr)"
      ],
      "metadata": {
        "id": "6NJ6z4zhNsgj"
      },
      "execution_count": null,
      "outputs": []
    },
    {
      "cell_type": "code",
      "source": [
        "loss_function = 'categorical_crossentropy'\n",
        "metric_function = 'accuracy'"
      ],
      "metadata": {
        "id": "0TK6Czy9N85X"
      },
      "execution_count": null,
      "outputs": []
    },
    {
      "cell_type": "markdown",
      "source": [
        "## Compilación del modelo\n"
      ],
      "metadata": {
        "id": "v-sn8ScSOgL6"
      }
    },
    {
      "cell_type": "code",
      "source": [
        "model.compile(loss=loss_function, optimizer = optimizer, metrics = [metric_function])"
      ],
      "metadata": {
        "id": "emzHT5puOY9y"
      },
      "execution_count": null,
      "outputs": []
    },
    {
      "cell_type": "markdown",
      "source": [
        "##Entrenando...\n"
      ],
      "metadata": {
        "id": "gIFUD454PIxY"
      }
    },
    {
      "cell_type": "code",
      "source": [
        "validation_portion = 0.2\n",
        "batch_size = 64\n",
        "epochs = 70\n",
        "start_time = time.time()\n",
        "\n",
        "history_model = model.fit(X_train, Y_train, batch_size=batch_size, epochs=epochs, validation_split=validation_portion, shuffle=True)\n",
        "\n",
        "end_time = time.time()\n",
        "print('Time for training {:18.4f}' .format(end_time-start_time))"
      ],
      "metadata": {
        "colab": {
          "base_uri": "https://localhost:8080/"
        },
        "id": "aIVO4RcoO7kU",
        "outputId": "e3df5824-d4fd-4164-e22e-f05a941ec1c9"
      },
      "execution_count": null,
      "outputs": [
        {
          "output_type": "stream",
          "name": "stdout",
          "text": [
            "Epoch 1/70\n",
            "142/142 [==============================] - 18s 35ms/step - loss: 1.6725 - accuracy: 0.2830 - val_loss: 1.5295 - val_accuracy: 0.3616\n",
            "Epoch 2/70\n",
            "142/142 [==============================] - 4s 27ms/step - loss: 1.4441 - accuracy: 0.3934 - val_loss: 1.2449 - val_accuracy: 0.4951\n",
            "Epoch 3/70\n",
            "142/142 [==============================] - 3s 23ms/step - loss: 1.2657 - accuracy: 0.4788 - val_loss: 1.1458 - val_accuracy: 0.5216\n",
            "Epoch 4/70\n",
            "142/142 [==============================] - 3s 23ms/step - loss: 1.1692 - accuracy: 0.5334 - val_loss: 1.0043 - val_accuracy: 0.6177\n",
            "Epoch 5/70\n",
            "142/142 [==============================] - 3s 23ms/step - loss: 1.0656 - accuracy: 0.5843 - val_loss: 0.9199 - val_accuracy: 0.6658\n",
            "Epoch 6/70\n",
            "142/142 [==============================] - 4s 25ms/step - loss: 0.9898 - accuracy: 0.6203 - val_loss: 0.8778 - val_accuracy: 0.6675\n",
            "Epoch 7/70\n",
            "142/142 [==============================] - 4s 25ms/step - loss: 0.9089 - accuracy: 0.6502 - val_loss: 0.7648 - val_accuracy: 0.7112\n",
            "Epoch 8/70\n",
            "142/142 [==============================] - 3s 23ms/step - loss: 0.8454 - accuracy: 0.6739 - val_loss: 0.7686 - val_accuracy: 0.7108\n",
            "Epoch 9/70\n",
            "142/142 [==============================] - 3s 23ms/step - loss: 0.7836 - accuracy: 0.7035 - val_loss: 0.7664 - val_accuracy: 0.7055\n",
            "Epoch 10/70\n",
            "142/142 [==============================] - 3s 23ms/step - loss: 0.7395 - accuracy: 0.7175 - val_loss: 0.6967 - val_accuracy: 0.7363\n",
            "Epoch 11/70\n",
            "142/142 [==============================] - 4s 30ms/step - loss: 0.7018 - accuracy: 0.7328 - val_loss: 0.6222 - val_accuracy: 0.7690\n",
            "Epoch 12/70\n",
            "142/142 [==============================] - 3s 24ms/step - loss: 0.6315 - accuracy: 0.7614 - val_loss: 0.5813 - val_accuracy: 0.7738\n",
            "Epoch 13/70\n",
            "142/142 [==============================] - 3s 23ms/step - loss: 0.6046 - accuracy: 0.7713 - val_loss: 0.5194 - val_accuracy: 0.8183\n",
            "Epoch 14/70\n",
            "142/142 [==============================] - 3s 23ms/step - loss: 0.5446 - accuracy: 0.7992 - val_loss: 0.4919 - val_accuracy: 0.8201\n",
            "Epoch 15/70\n",
            "142/142 [==============================] - 4s 26ms/step - loss: 0.5179 - accuracy: 0.8104 - val_loss: 0.4683 - val_accuracy: 0.8395\n",
            "Epoch 16/70\n",
            "142/142 [==============================] - 4s 27ms/step - loss: 0.5104 - accuracy: 0.8131 - val_loss: 0.4469 - val_accuracy: 0.8492\n",
            "Epoch 17/70\n",
            "142/142 [==============================] - 3s 23ms/step - loss: 0.4496 - accuracy: 0.8327 - val_loss: 0.4013 - val_accuracy: 0.8607\n",
            "Epoch 18/70\n",
            "142/142 [==============================] - 3s 23ms/step - loss: 0.4332 - accuracy: 0.8394 - val_loss: 0.3768 - val_accuracy: 0.8761\n",
            "Epoch 19/70\n",
            "142/142 [==============================] - 3s 23ms/step - loss: 0.3992 - accuracy: 0.8532 - val_loss: 0.3442 - val_accuracy: 0.8823\n",
            "Epoch 20/70\n",
            "142/142 [==============================] - 4s 25ms/step - loss: 0.3757 - accuracy: 0.8625 - val_loss: 0.3376 - val_accuracy: 0.8920\n",
            "Epoch 21/70\n",
            "142/142 [==============================] - 4s 26ms/step - loss: 0.3612 - accuracy: 0.8692 - val_loss: 0.3053 - val_accuracy: 0.9056\n",
            "Epoch 22/70\n",
            "142/142 [==============================] - 3s 23ms/step - loss: 0.3267 - accuracy: 0.8840 - val_loss: 0.3023 - val_accuracy: 0.9052\n",
            "Epoch 23/70\n",
            "142/142 [==============================] - 3s 24ms/step - loss: 0.3009 - accuracy: 0.8950 - val_loss: 0.2831 - val_accuracy: 0.9149\n",
            "Epoch 24/70\n",
            "142/142 [==============================] - 3s 24ms/step - loss: 0.2956 - accuracy: 0.8932 - val_loss: 0.2584 - val_accuracy: 0.9158\n",
            "Epoch 25/70\n",
            "142/142 [==============================] - 4s 26ms/step - loss: 0.2789 - accuracy: 0.9012 - val_loss: 0.2747 - val_accuracy: 0.9193\n",
            "Epoch 26/70\n",
            "142/142 [==============================] - 4s 25ms/step - loss: 0.2637 - accuracy: 0.9051 - val_loss: 0.2455 - val_accuracy: 0.9286\n",
            "Epoch 27/70\n",
            "142/142 [==============================] - 3s 24ms/step - loss: 0.2659 - accuracy: 0.9074 - val_loss: 0.2598 - val_accuracy: 0.9131\n",
            "Epoch 28/70\n",
            "142/142 [==============================] - 3s 24ms/step - loss: 0.2350 - accuracy: 0.9179 - val_loss: 0.2298 - val_accuracy: 0.9286\n",
            "Epoch 29/70\n",
            "142/142 [==============================] - 3s 24ms/step - loss: 0.2212 - accuracy: 0.9222 - val_loss: 0.2122 - val_accuracy: 0.9383\n",
            "Epoch 30/70\n",
            "142/142 [==============================] - 4s 27ms/step - loss: 0.2076 - accuracy: 0.9266 - val_loss: 0.2156 - val_accuracy: 0.9427\n",
            "Epoch 31/70\n",
            "142/142 [==============================] - 3s 24ms/step - loss: 0.2117 - accuracy: 0.9249 - val_loss: 0.2020 - val_accuracy: 0.9511\n",
            "Epoch 32/70\n",
            "142/142 [==============================] - 3s 24ms/step - loss: 0.2084 - accuracy: 0.9264 - val_loss: 0.2039 - val_accuracy: 0.9493\n",
            "Epoch 33/70\n",
            "142/142 [==============================] - 3s 23ms/step - loss: 0.1961 - accuracy: 0.9312 - val_loss: 0.1970 - val_accuracy: 0.9586\n",
            "Epoch 34/70\n",
            "142/142 [==============================] - 3s 24ms/step - loss: 0.1684 - accuracy: 0.9447 - val_loss: 0.1796 - val_accuracy: 0.9599\n",
            "Epoch 35/70\n",
            "142/142 [==============================] - 4s 25ms/step - loss: 0.1779 - accuracy: 0.9367 - val_loss: 0.1726 - val_accuracy: 0.9537\n",
            "Epoch 36/70\n",
            "142/142 [==============================] - 3s 23ms/step - loss: 0.1596 - accuracy: 0.9459 - val_loss: 0.1704 - val_accuracy: 0.9586\n",
            "Epoch 37/70\n",
            "142/142 [==============================] - 3s 23ms/step - loss: 0.1533 - accuracy: 0.9470 - val_loss: 0.1755 - val_accuracy: 0.9563\n",
            "Epoch 38/70\n",
            "142/142 [==============================] - 3s 23ms/step - loss: 0.1577 - accuracy: 0.9447 - val_loss: 0.1709 - val_accuracy: 0.9546\n",
            "Epoch 39/70\n",
            "142/142 [==============================] - 4s 26ms/step - loss: 0.1444 - accuracy: 0.9508 - val_loss: 0.1568 - val_accuracy: 0.9630\n",
            "Epoch 40/70\n",
            "142/142 [==============================] - 4s 25ms/step - loss: 0.1412 - accuracy: 0.9528 - val_loss: 0.1634 - val_accuracy: 0.9616\n",
            "Epoch 41/70\n",
            "142/142 [==============================] - 3s 24ms/step - loss: 0.1372 - accuracy: 0.9530 - val_loss: 0.1602 - val_accuracy: 0.9669\n",
            "Epoch 42/70\n",
            "142/142 [==============================] - 3s 24ms/step - loss: 0.1324 - accuracy: 0.9554 - val_loss: 0.1596 - val_accuracy: 0.9674\n",
            "Epoch 43/70\n",
            "142/142 [==============================] - 3s 23ms/step - loss: 0.1195 - accuracy: 0.9618 - val_loss: 0.1597 - val_accuracy: 0.9705\n",
            "Epoch 44/70\n",
            "142/142 [==============================] - 4s 28ms/step - loss: 0.1228 - accuracy: 0.9588 - val_loss: 0.1607 - val_accuracy: 0.9660\n",
            "Epoch 45/70\n",
            "142/142 [==============================] - 5s 33ms/step - loss: 0.1113 - accuracy: 0.9616 - val_loss: 0.1614 - val_accuracy: 0.9700\n",
            "Epoch 46/70\n",
            "142/142 [==============================] - 4s 27ms/step - loss: 0.1182 - accuracy: 0.9588 - val_loss: 0.1646 - val_accuracy: 0.9660\n",
            "Epoch 47/70\n",
            "142/142 [==============================] - 3s 23ms/step - loss: 0.1124 - accuracy: 0.9613 - val_loss: 0.1552 - val_accuracy: 0.9718\n",
            "Epoch 48/70\n",
            "142/142 [==============================] - 4s 28ms/step - loss: 0.1137 - accuracy: 0.9631 - val_loss: 0.1442 - val_accuracy: 0.9691\n",
            "Epoch 49/70\n",
            "142/142 [==============================] - 4s 25ms/step - loss: 0.1061 - accuracy: 0.9627 - val_loss: 0.1615 - val_accuracy: 0.9696\n",
            "Epoch 50/70\n",
            "142/142 [==============================] - 3s 24ms/step - loss: 0.1206 - accuracy: 0.9608 - val_loss: 0.1711 - val_accuracy: 0.9674\n",
            "Epoch 51/70\n",
            "142/142 [==============================] - 3s 24ms/step - loss: 0.1123 - accuracy: 0.9644 - val_loss: 0.1543 - val_accuracy: 0.9696\n",
            "Epoch 52/70\n",
            "142/142 [==============================] - 3s 24ms/step - loss: 0.1093 - accuracy: 0.9647 - val_loss: 0.1613 - val_accuracy: 0.9674\n",
            "Epoch 53/70\n",
            "142/142 [==============================] - 4s 28ms/step - loss: 0.0965 - accuracy: 0.9677 - val_loss: 0.1462 - val_accuracy: 0.9771\n",
            "Epoch 54/70\n",
            "142/142 [==============================] - 4s 25ms/step - loss: 0.0911 - accuracy: 0.9688 - val_loss: 0.1548 - val_accuracy: 0.9753\n",
            "Epoch 55/70\n",
            "142/142 [==============================] - 3s 24ms/step - loss: 0.1007 - accuracy: 0.9675 - val_loss: 0.1648 - val_accuracy: 0.9705\n",
            "Epoch 56/70\n",
            "142/142 [==============================] - 3s 24ms/step - loss: 0.0914 - accuracy: 0.9677 - val_loss: 0.1581 - val_accuracy: 0.9669\n",
            "Epoch 57/70\n",
            "142/142 [==============================] - 4s 27ms/step - loss: 0.0849 - accuracy: 0.9719 - val_loss: 0.1441 - val_accuracy: 0.9727\n",
            "Epoch 58/70\n",
            "142/142 [==============================] - 4s 28ms/step - loss: 0.0835 - accuracy: 0.9726 - val_loss: 0.1518 - val_accuracy: 0.9722\n",
            "Epoch 59/70\n",
            "142/142 [==============================] - 3s 24ms/step - loss: 0.0865 - accuracy: 0.9723 - val_loss: 0.1512 - val_accuracy: 0.9705\n",
            "Epoch 60/70\n",
            "142/142 [==============================] - 3s 23ms/step - loss: 0.0893 - accuracy: 0.9724 - val_loss: 0.1529 - val_accuracy: 0.9713\n",
            "Epoch 61/70\n",
            "142/142 [==============================] - 3s 24ms/step - loss: 0.0772 - accuracy: 0.9739 - val_loss: 0.1469 - val_accuracy: 0.9735\n",
            "Epoch 62/70\n",
            "142/142 [==============================] - 4s 25ms/step - loss: 0.0790 - accuracy: 0.9735 - val_loss: 0.1415 - val_accuracy: 0.9735\n",
            "Epoch 63/70\n",
            "142/142 [==============================] - 4s 25ms/step - loss: 0.0818 - accuracy: 0.9726 - val_loss: 0.1649 - val_accuracy: 0.9766\n",
            "Epoch 64/70\n",
            "142/142 [==============================] - 4s 26ms/step - loss: 0.0877 - accuracy: 0.9718 - val_loss: 0.1619 - val_accuracy: 0.9771\n",
            "Epoch 65/70\n",
            "142/142 [==============================] - 3s 23ms/step - loss: 0.0792 - accuracy: 0.9753 - val_loss: 0.1535 - val_accuracy: 0.9713\n",
            "Epoch 66/70\n",
            "142/142 [==============================] - 3s 24ms/step - loss: 0.0770 - accuracy: 0.9752 - val_loss: 0.1589 - val_accuracy: 0.9753\n",
            "Epoch 67/70\n",
            "142/142 [==============================] - 4s 25ms/step - loss: 0.0791 - accuracy: 0.9746 - val_loss: 0.1606 - val_accuracy: 0.9731\n",
            "Epoch 68/70\n",
            "142/142 [==============================] - 4s 25ms/step - loss: 0.0770 - accuracy: 0.9771 - val_loss: 0.1351 - val_accuracy: 0.9722\n",
            "Epoch 69/70\n",
            "142/142 [==============================] - 3s 24ms/step - loss: 0.0861 - accuracy: 0.9723 - val_loss: 0.1633 - val_accuracy: 0.9757\n",
            "Epoch 70/70\n",
            "142/142 [==============================] - 3s 23ms/step - loss: 0.0689 - accuracy: 0.9773 - val_loss: 0.1477 - val_accuracy: 0.9744\n",
            "Time for training           262.8335\n"
          ]
        }
      ]
    },
    {
      "cell_type": "code",
      "source": [
        "del X_train, Y_train"
      ],
      "metadata": {
        "id": "KD6OcOqsBdIb"
      },
      "execution_count": null,
      "outputs": []
    },
    {
      "cell_type": "code",
      "source": [
        "from tensorflow.keras.models import save_model\n",
        "\n",
        "# Supongamos que 'model' es tu modelo entrenado\n",
        "# ... (código de entrenamiento del modelo)\n",
        "\n",
        "# Guardar el modelo en formato nativo de Keras (.keras)\n",
        "save_model(model, 'modelo_entrenado.keras')"
      ],
      "metadata": {
        "id": "zz3kEXlZArYP"
      },
      "execution_count": null,
      "outputs": []
    },
    {
      "cell_type": "code",
      "source": [
        "loss = history_model.history['loss'][-1]\n",
        "val_loss = history_model.history['val_loss'][-1]\n",
        "acc = history_model.history['accuracy'][-1]\n",
        "val_acc = history_model.history['val_accuracy'][-1]\n",
        "\n",
        "\n",
        "title_acc = str(activation)+ ',Adam, ls = ' + str(lr) + '\\n' + 'acc_train: ' + \\\n",
        "          str(np.round(acc,4)) + ', acc_val: ' + str(np.round(val_acc,4)) \\\n",
        "          + '\\n' + 'BatchNorm = '+ str(batch_normalization) \\\n",
        "          + '\\n' + 'Dropout = ' + str(dropout)\n",
        "\n",
        "title_loss = str(activation)+ ',Adam, ls = ' + str(lr) + '\\n' + 'loss_train: ' + \\\n",
        "          str(np.round(loss,4)) + ', acc_val: ' + str(np.round(val_loss,4)) \\\n",
        "          + '\\n' + 'BatchNorm = '+ str(batch_normalization) \\\n",
        "          + '\\n' + 'Dropout = ' + str(dropout)"
      ],
      "metadata": {
        "id": "0C7WULcomp_7"
      },
      "execution_count": null,
      "outputs": []
    },
    {
      "cell_type": "code",
      "source": [
        "plt.plot(history_model.history['loss'])\n",
        "plt.plot(history_model.history['val_loss'])\n",
        "plt.title(title_loss)\n",
        "plt.xlabel('Epoch')\n",
        "plt.ylabel('Cost')\n",
        "plt.savefig('Loss')\n",
        "plt.legend(['Train', 'Validation'], loc='upper right' )"
      ],
      "metadata": {
        "colab": {
          "base_uri": "https://localhost:8080/",
          "height": 551
        },
        "id": "I-tGlyR2pATh",
        "outputId": "00f6e456-1861-43b3-a7a8-8263cc704ab0"
      },
      "execution_count": null,
      "outputs": [
        {
          "output_type": "execute_result",
          "data": {
            "text/plain": [
              "<matplotlib.legend.Legend at 0x7a63297dd4b0>"
            ]
          },
          "metadata": {},
          "execution_count": 35
        },
        {
          "output_type": "display_data",
          "data": {
            "text/plain": [
              "<Figure size 640x480 with 1 Axes>"
            ],
            "image/png": "[encoded data removed]"
          },
          "metadata": {}
        }
      ]
    },
    {
      "cell_type": "code",
      "source": [
        "plt.plot(history_model.history['accuracy'])\n",
        "plt.plot(history_model.history['val_accuracy'])\n",
        "plt.title(title_acc)\n",
        "plt.xlabel('Epoch')\n",
        "plt.ylabel('Accuracy')\n",
        "plt.savefig('Accuracy')\n",
        "plt.legend(['Train', 'Validation'], loc='lower right' )"
      ],
      "metadata": {
        "colab": {
          "base_uri": "https://localhost:8080/",
          "height": 551
        },
        "id": "u7l24YVZqCiU",
        "outputId": "bf6388fd-93b9-4771-ff3b-13f018c48c21"
      },
      "execution_count": null,
      "outputs": [
        {
          "output_type": "execute_result",
          "data": {
            "text/plain": [
              "<matplotlib.legend.Legend at 0x7a632fd622f0>"
            ]
          },
          "metadata": {},
          "execution_count": 36
        },
        {
          "output_type": "display_data",
          "data": {
            "text/plain": [
              "<Figure size 640x480 with 1 Axes>"
            ],
            "image/png": "[encoded data removed]"
          },
          "metadata": {}
        }
      ]
    },
    {
      "cell_type": "code",
      "source": [
        "scores = model.evaluate(X_test,Y_test)\n",
        "\n",
        "print('Test loss: ',scores[0] )\n",
        "print('Test accuracy: ', scores[1])"
      ],
      "metadata": {
        "colab": {
          "base_uri": "https://localhost:8080/"
        },
        "id": "jrkEWaPJqX2v",
        "outputId": "add96061-f3bb-446d-dc33-3d5ff3dc61e7"
      },
      "execution_count": null,
      "outputs": [
        {
          "output_type": "stream",
          "name": "stdout",
          "text": [
            "40/40 [==============================] - 0s 9ms/step - loss: 0.1905 - accuracy: 0.9738\n",
            "Test loss:  0.1904526799917221\n",
            "Test accuracy:  0.973809540271759\n"
          ]
        }
      ]
    },
    {
      "cell_type": "code",
      "source": [
        "evaluations = model.evaluate(X_test,Y_test)\n",
        "\n",
        "print('Test loss: ',evaluations[0] )\n",
        "print('Test accuracy: ', evaluations[1])"
      ],
      "metadata": {
        "id": "JtfKCH16rJ2l",
        "colab": {
          "base_uri": "https://localhost:8080/"
        },
        "outputId": "228c90a8-ebe7-431b-f9ce-3a56b03b6817"
      },
      "execution_count": null,
      "outputs": [
        {
          "output_type": "stream",
          "name": "stdout",
          "text": [
            "40/40 [==============================] - 0s 7ms/step - loss: 0.1905 - accuracy: 0.9738\n",
            "Test loss:  0.1904526799917221\n",
            "Test accuracy:  0.973809540271759\n"
          ]
        }
      ]
    },
    {
      "cell_type": "code",
      "source": [
        "y_target = np.argmax(Y_test, axis=1)\n",
        "predictions = model.predict(X_test)\n",
        "y_pred = np.argmax(predictions, axis=1)"
      ],
      "metadata": {
        "colab": {
          "base_uri": "https://localhost:8080/"
        },
        "id": "IS1WT3EAsNvR",
        "outputId": "c0cf3855-9392-4906-dd4c-ba4c48854026"
      },
      "execution_count": null,
      "outputs": [
        {
          "output_type": "stream",
          "name": "stdout",
          "text": [
            "40/40 [==============================] - 0s 6ms/step\n"
          ]
        }
      ]
    },
    {
      "cell_type": "code",
      "source": [
        "from sklearn.metrics import classification_report, confusion_matrix\n",
        "\n",
        "print('Confusion Matrix')\n",
        "print(confusion_matrix(y_target, y_pred), '\\n')\n",
        "\n",
        "print('Classification report')\n",
        "target_names = list(dicc_classes.keys())\n",
        "print(classification_report(y_target, y_pred, target_names = target_names))"
      ],
      "metadata": {
        "colab": {
          "base_uri": "https://localhost:8080/"
        },
        "id": "kYpOzdGOssYu",
        "outputId": "ccb569ec-0f11-43b9-fdb8-0841f68eafcd"
      },
      "execution_count": null,
      "outputs": [
        {
          "output_type": "stream",
          "name": "stdout",
          "text": [
            "Confusion Matrix\n",
            "[[172   0   0   0   2   0   0]\n",
            " [  4 190   6   0   2   0   0]\n",
            " [  1   0 165   2   1   0   0]\n",
            " [  0   0   0 186   3   1   0]\n",
            " [  0   3   1   1 174   2   0]\n",
            " [  0   0   0   0   2 176   0]\n",
            " [  0   0   0   0   1   1 164]] \n",
            "\n",
            "Classification report\n",
            "              precision    recall  f1-score   support\n",
            "\n",
            "   triclinic       0.97      0.99      0.98       174\n",
            "  monoclinic       0.98      0.94      0.96       202\n",
            "orthorhombic       0.96      0.98      0.97       169\n",
            "  tetragonal       0.98      0.98      0.98       190\n",
            "    trigonal       0.94      0.96      0.95       181\n",
            "   hexagonal       0.98      0.99      0.98       178\n",
            "       cubic       1.00      0.99      0.99       166\n",
            "\n",
            "    accuracy                           0.97      1260\n",
            "   macro avg       0.97      0.97      0.97      1260\n",
            "weighted avg       0.97      0.97      0.97      1260\n",
            "\n"
          ]
        }
      ]
    },
    {
      "cell_type": "code",
      "source": [
        "import seaborn as sns\n",
        "\n",
        "\n",
        "conf_mat = confusion_matrix(y_target, y_pred)\n",
        "\n",
        "sns.heatmap(conf_mat, annot=True, fmt='d', xticklabels=target_names, yticklabels=target_names)\n",
        "plt.xlabel('Predicted Label')\n",
        "plt.ylabel('True Label')\n",
        "plt.title('Confusion Matrix')\n",
        "plt.savefig('Matriz de Confusión')\n",
        "plt.show()"
      ],
      "metadata": {
        "colab": {
          "base_uri": "https://localhost:8080/",
          "height": 551
        },
        "id": "m4D0S08WtxZ1",
        "outputId": "e459bc33-9b0b-459a-ece8-9d8cc89e2fc4"
      },
      "execution_count": null,
      "outputs": [
        {
          "output_type": "display_data",
          "data": {
            "text/plain": [
              "<Figure size 640x480 with 2 Axes>"
            ],
            "image/png": "[encoded data removed]"
          },
          "metadata": {}
        }
      ]
    },
    {
      "cell_type": "code",
      "source": [
        "from tensorflow.keras.models import save_model\n",
        "\n",
        "# Supongamos que 'model' es tu modelo entrenado\n",
        "# ... (código de entrenamiento del modelo)\n",
        "\n",
        "# Guardar el modelo en formato nativo de Keras (.keras)\n",
        "save_model(model, 'modelo_entrenado.keras')"
      ],
      "metadata": {
        "id": "5bCiiVw-s1MT"
      },
      "execution_count": null,
      "outputs": []
    }
  ]
}